{
 "cells": [
  {
   "cell_type": "markdown",
   "metadata": {},
   "source": [
    "# Set Theory\n",
    "\n",
    "sets are collections of objects also known as elements\n",
    "\n",
    "set theory describes the algebraic structures of sets\n",
    "\n",
    "## Notation\n",
    "\n",
    "we define sets with upper case letters, elements of those sets with lower case\n",
    "letters, and wrap the elements of a given set in curly braces.\n",
    "\n",
    "$$A = \\{ .. \\}\\\\B = \\{ .. \\}$$\n",
    "\n",
    "## Notable Sets\n",
    "\n",
    "the empty set contains no elements and is denoted as $\\{\\}$ or $\\varnothing$\n",
    "\n",
    "the universe set contains all elements for a given theorem"
   ]
  },
  {
   "cell_type": "code",
   "execution_count": 6,
   "metadata": {},
   "outputs": [],
   "source": [
    "a = { 1, 2, 3, 4 }\n",
    "b = { 3, 4, 5, 6 }\n",
    "e = {}"
   ]
  },
  {
   "cell_type": "markdown",
   "metadata": {},
   "source": [
    "## Operators"
   ]
  },
  {
   "cell_type": "markdown",
   "metadata": {},
   "source": [
    "### Union\n",
    "\n",
    "the union of two sets $A$ and $B$ is a set consisting of all elements of set $A$\n",
    "and all elements of set $B$\n",
    "\n",
    "$$A \\cup B$$"
   ]
  },
  {
   "cell_type": "code",
   "execution_count": 16,
   "metadata": {},
   "outputs": [
    {
     "name": "stdout",
     "output_type": "stream",
     "text": [
      "union_ab:  {1, 2, 3, 4, 5, 6}\n"
     ]
    }
   ],
   "source": [
    "union_ab = a.union(b)\n",
    "\n",
    "print('union_ab: ', union_ab)"
   ]
  },
  {
   "cell_type": "markdown",
   "metadata": {},
   "source": [
    "### Intersection\n",
    "\n",
    "the intersection of two sets $A$ and $B$ is a set consisting of elements that\n",
    "exist in explicitly both $A$ and $B$\n",
    "\n",
    "$$A \\cap B$$"
   ]
  },
  {
   "cell_type": "code",
   "execution_count": 17,
   "metadata": {},
   "outputs": [
    {
     "name": "stdout",
     "output_type": "stream",
     "text": [
      "intersection_ab:  {3, 4}\n"
     ]
    }
   ],
   "source": [
    "intersection_ab = a.intersection(b)\n",
    "\n",
    "print('intersection_ab: ', intersection_ab)"
   ]
  },
  {
   "cell_type": "markdown",
   "metadata": {},
   "source": [
    "### Difference\n",
    "\n",
    "the set difference of sets $A$ and $B$ is a set consisting of the elements of\n",
    "set $A$ excluding elements that are shared by $B$\n",
    "\n",
    "$$A \\setminus B\\\\or\\\\A - B$$"
   ]
  },
  {
   "cell_type": "code",
   "execution_count": 18,
   "metadata": {},
   "outputs": [
    {
     "name": "stdout",
     "output_type": "stream",
     "text": [
      "difference_ab:  {1, 2}\n",
      "difference_ba:  {5, 6}\n"
     ]
    }
   ],
   "source": [
    "difference_ab = a.difference(b)\n",
    "difference_ba = b.difference(a)\n",
    "\n",
    "print('difference_ab: ', difference_ab)\n",
    "print('difference_ba: ', difference_ba)"
   ]
  },
  {
   "cell_type": "markdown",
   "metadata": {},
   "source": [
    "### Symmetric Difference\n",
    "\n",
    "the symmetric difference of sets $A$ and $B$ is a set consisting of the elements\n",
    "only present in $A$ or $B$ but not both\n",
    "\n",
    "$$A \\Delta B$$"
   ]
  },
  {
   "cell_type": "code",
   "execution_count": 19,
   "metadata": {},
   "outputs": [
    {
     "name": "stdout",
     "output_type": "stream",
     "text": [
      "symmetric_difference_ab:  {1, 2, 5, 6}\n"
     ]
    }
   ],
   "source": [
    "symmetric_difference_ab = a.symmetric_difference(b)\n",
    "\n",
    "print('symmetric_difference_ab: ', symmetric_difference_ab)"
   ]
  },
  {
   "cell_type": "markdown",
   "metadata": {},
   "source": [
    "### Cartesian Product\n",
    "\n",
    "the cartesian product of sets $A$ and $B$ is a set consisting of pairs of each\n",
    "sets' elements\n",
    "\n",
    "$$A \\times B = \\{ (a, b) | a \\in A, b \\in B \\}$$"
   ]
  },
  {
   "cell_type": "code",
   "execution_count": 20,
   "metadata": {},
   "outputs": [
    {
     "name": "stdout",
     "output_type": "stream",
     "text": [
      "cartesian_product_ab:  {(4, 4), (2, 4), (3, 4), (1, 5), (4, 3), (4, 6), (1, 4), (2, 3), (4, 5), (3, 3), (2, 6), (3, 6), (1, 6), (2, 5), (1, 3), (3, 5)}\n"
     ]
    }
   ],
   "source": [
    "cartesian_product_ab = { (aN, bN) for aN in a for bN in b }\n",
    "\n",
    "print('cartesian_product_ab: ', cartesian_product_ab)"
   ]
  },
  {
   "cell_type": "markdown",
   "metadata": {},
   "source": [
    "### Complemenet\n",
    "\n",
    "the compliment of a set $A$ is the set of all elements not in $A$ for a given\n",
    "universe"
   ]
  },
  {
   "cell_type": "markdown",
   "metadata": {},
   "source": [
    "## Sets of Sets"
   ]
  },
  {
   "cell_type": "markdown",
   "metadata": {},
   "source": [
    "### Subsets and Supersets\n",
    "\n",
    "a set $X$ is a subset of a set $Y$ if all elements of $X$ are elements of $Y$,\n",
    "including if $X$ and $Y$ are identical\n",
    "\n",
    "$$X \\subseteq Y$$\n",
    "\n",
    "if $X$ is a subset of $Y$ but are not identical, that is to say $Y$ contains at\n",
    "least one element that is not an element of $X$, then $X$ is a strict, or\n",
    "proper, subset of $Y$\n",
    "\n",
    "$$X \\subseteq Y$$\n",
    "\n",
    "if $X$ is a subset of $Y$ then $Y$ is a superset of $X$\n",
    "\n",
    "$$Y \\supset X$$\n",
    "\n",
    "if $X$ is a strict, or proper, subset of $Y$ then $Y$ is a strict, or proper,\n",
    "superset of $X$\n",
    "\n",
    "$$Y \\supseteq X$$"
   ]
  },
  {
   "cell_type": "code",
   "execution_count": 21,
   "metadata": {},
   "outputs": [
    {
     "name": "stdout",
     "output_type": "stream",
     "text": [
      "x_subset_y:  True\n",
      "x_strict_subset_y:  True\n",
      "x_superset_z:  True\n",
      "x_strict_superset_z:  False\n"
     ]
    }
   ],
   "source": [
    "x = { 1, 2, 3 }\n",
    "y = { 1, 2, 3, 4 }\n",
    "z = { 1, 2, 3 }\n",
    "\n",
    "x_subset_y = x.issubset(y)\n",
    "\n",
    "x_strict_subset_y = x.issubset(y) and x != y\n",
    "\n",
    "x_superset_z = x.issuperset(z)\n",
    "\n",
    "x_strict_superset_z = x.issuperset(z) and x != z\n",
    "\n",
    "print('x_subset_y: ', x_subset_y)\n",
    "print('x_strict_subset_y: ', x_strict_subset_y)\n",
    "print('x_superset_z: ', x_superset_z)\n",
    "print('x_strict_superset_z: ', x_strict_superset_z)"
   ]
  },
  {
   "cell_type": "markdown",
   "metadata": {},
   "source": [
    "### Power Set\n",
    "\n",
    "the powerset of a set $X$ is the set of all subsets of $X$ including the empty\n",
    "set\n",
    "\n",
    "$$\\mathbb{P}(X)$$"
   ]
  },
  {
   "cell_type": "code",
   "execution_count": 22,
   "metadata": {},
   "outputs": [
    {
     "name": "stdout",
     "output_type": "stream",
     "text": [
      "powerset_x:  {frozenset({2}), frozenset({2, 3}), frozenset({1, 2}), frozenset({1, 2, 3}), frozenset({3}), frozenset({1}), frozenset(), frozenset({1, 3})}\n"
     ]
    }
   ],
   "source": [
    "x = { 1, 2, 3 }\n",
    "\n",
    "powerset_x = {\n",
    "    frozenset({}),\n",
    "    frozenset({ 1 }),\n",
    "    frozenset({ 2 }),\n",
    "    frozenset({ 3 }),\n",
    "    frozenset({ 1, 2 }),\n",
    "    frozenset({ 1, 3 }),\n",
    "    frozenset({ 2, 3 }),\n",
    "    frozenset({ 1, 2, 3 })\n",
    "}\n",
    "\n",
    "print('powerset_x: ', powerset_x)"
   ]
  },
  {
   "cell_type": "markdown",
   "metadata": {},
   "source": [
    "### The Russell Set\n",
    "\n",
    "the russell set is the set of all sets that are not members of themselves, which\n",
    "is a contradiction, as it would have to contain itself is and only if it does\n",
    "not contain itself\n",
    "\n",
    "it is used to demonstrate russell's paradox in set theory\n",
    "\n",
    "$$ Let R = \\{ x | x \\notin x \\}, then\\,R \\in R \\leftrightarrow R \\notin R$$"
   ]
  },
  {
   "cell_type": "markdown",
   "metadata": {},
   "source": [
    "## Set Algebra"
   ]
  },
  {
   "cell_type": "markdown",
   "metadata": {},
   "source": [
    "### Properties of Set Algebra\n",
    "\n",
    "union and intersection operators are commutative and associative\n",
    "\n",
    "$$A \\cup B = B \\cup A$$\n",
    "$$(A \\cup B) \\cup C = A \\cup (B \\cup C)$$\n",
    "$$A \\cap B = B \\cap A$$\n",
    "$$(A \\cap B) \\cap C = A \\cap (B \\cap C)$$\n",
    "\n",
    "both union and intersection operators distribute over one another\n",
    "\n",
    "$$A \\cup (B \\cap C) = (A \\cup B) \\cap (A \\cup C)$$\n",
    "$$A \\cap (B \\cup C) = (A \\cap B) \\cup (A \\cap C)$$\n",
    "\n",
    "the union of a set $A$ and the empty set forms an identity\n",
    "\n",
    "$$A \\cup \\varnothing = A$$\n",
    "\n",
    "the intersection of a set $A$ and the universe set also forms an identity\n",
    "\n",
    "$$A \\cap U = A$$\n",
    "\n",
    "unions and intersections do now have inverse elements, though the complement\n",
    "laws form inverse-like behavior\n",
    "\n",
    "$$A \\cup A^C = U$$\n",
    "$$A \\cap A^C = \\varnothing$$"
   ]
  }
 ],
 "metadata": {
  "kernelspec": {
   "display_name": "Python 3",
   "language": "python",
   "name": "python3"
  },
  "language_info": {
   "codemirror_mode": {
    "name": "ipython",
    "version": 3
   },
   "file_extension": ".py",
   "mimetype": "text/x-python",
   "name": "python",
   "nbconvert_exporter": "python",
   "pygments_lexer": "ipython3",
   "version": "3.10.14"
  }
 },
 "nbformat": 4,
 "nbformat_minor": 2
}
