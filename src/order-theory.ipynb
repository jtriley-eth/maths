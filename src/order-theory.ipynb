{
 "cells": [
  {
   "cell_type": "markdown",
   "metadata": {},
   "source": [
    "# Order Theory\n",
    "\n",
    "order theory studies the notion of \"order\" in sets using binary relations\n",
    "\n",
    "to generalize the notion of comparison, we generally use $\\sim$ as an infixed\n",
    "operator to denote a relation. the code examples will contain greater than,\n",
    "greater than or equal to, less than, and less than or equal to over a set of\n",
    "integers 0 to 4"
   ]
  },
  {
   "cell_type": "code",
   "execution_count": 11,
   "metadata": {},
   "outputs": [],
   "source": [
    "# set\n",
    "p = { 0, 1, 2, 3, 4 }"
   ]
  },
  {
   "cell_type": "markdown",
   "metadata": {},
   "source": [
    "## Comparisons\n",
    "\n",
    "### Relation\n",
    "\n",
    "the binary relation $\\sim$ over a set $P$ can be considered a mapping of two\n",
    "elements of $P$ to a value of true or false"
   ]
  },
  {
   "cell_type": "code",
   "execution_count": 12,
   "metadata": {},
   "outputs": [],
   "source": [
    "# binary relations\n",
    "lt = lambda x, y : x < y\n",
    "gt = lambda x, y : x > y\n",
    "lte = lambda x, y : x <= y\n",
    "gte = lambda x, y : x >= y"
   ]
  },
  {
   "cell_type": "markdown",
   "metadata": {},
   "source": [
    "### Comparability\n",
    "\n",
    "the property of comparability for a given pair of elements $a, b$ of $P$ is if\n",
    "either $a ~ b$ is true or $b ~ a$ is true. if both are false, the elements are\n",
    "not comparable with the given relation\n",
    "\n",
    "$$a, b \\in P : a \\sim b \\, or \\, b \\sim a$$"
   ]
  },
  {
   "cell_type": "code",
   "execution_count": 32,
   "metadata": {},
   "outputs": [],
   "source": [
    "def is_comparable(a, b, relation):\n",
    "    return relation(a, b) or relation(b, a)"
   ]
  },
  {
   "cell_type": "markdown",
   "metadata": {},
   "source": [
    "### Reflexivity\n",
    "\n",
    "the reflexivity property of a binary relation enables each elements of $P$ to be\n",
    "related to itself.\n",
    "\n",
    "$$a \\in P : a \\sim a$$"
   ]
  },
  {
   "cell_type": "code",
   "execution_count": 14,
   "metadata": {},
   "outputs": [],
   "source": [
    "def is_reflexive(a, relation):\n",
    "    return relation(a, a)"
   ]
  },
  {
   "cell_type": "markdown",
   "metadata": {},
   "source": [
    "### Irreflexivity\n",
    "\n",
    "the irreflexivity property of a binary relation asserts elements are not related\n",
    "to theirselves.\n",
    "\n",
    "$$a \\in P : a \\nsim a$$"
   ]
  },
  {
   "cell_type": "code",
   "execution_count": 15,
   "metadata": {},
   "outputs": [],
   "source": [
    "def is_irreflexive(a, relation):\n",
    "    return not relation(a, a)"
   ]
  },
  {
   "cell_type": "markdown",
   "metadata": {},
   "source": [
    "### Transitivity\n",
    "\n",
    "the transitivity property of a binary relation asserts that relations compose.\n",
    "that is to say if the relation holds for elements $a$ and $b$ as well as for $b$\n",
    "and $c$, then the relation between $a$ and $c$ must hold\n",
    "\n",
    "$$a, b, c \\in P, a \\sim b, b \\sim c : a \\sim c$$"
   ]
  },
  {
   "cell_type": "code",
   "execution_count": 24,
   "metadata": {},
   "outputs": [],
   "source": [
    "def is_transitive(a, b, c, relation):\n",
    "    if relation(a, b) and relation(b, c):\n",
    "        return relation(a, c)\n",
    "    return True"
   ]
  },
  {
   "cell_type": "markdown",
   "metadata": {},
   "source": [
    "### Cotransitivity\n",
    "\n",
    "cotransitivity, also known as weak linearity, is the property where for a given\n",
    "$a, b, c$ in the set $P$, if the relation between $a$ and $c$ hold, it implies\n",
    "the relation holds between either $a$ and $b$ or $b$ and $a$\n",
    "\n",
    "$$a, b, c \\in P, a \\sim c : a \\sim b \\, or \\, b \\sim a$$"
   ]
  },
  {
   "cell_type": "code",
   "execution_count": 25,
   "metadata": {},
   "outputs": [],
   "source": [
    "def is_cotransitive(a, b, c, relation):\n",
    "    if relation(a, c):\n",
    "        return relation(a, b) or relation(b, a)\n",
    "    return True"
   ]
  },
  {
   "cell_type": "markdown",
   "metadata": {},
   "source": [
    "### Symmetry\n",
    "\n",
    "symmetry asserts that if a binary relation holds for two elements in one order,\n",
    "it must also hold for the other order.\n",
    "\n",
    "$$a, b \\in P, a \\sim b : b \\sim a$$"
   ]
  },
  {
   "cell_type": "code",
   "execution_count": 18,
   "metadata": {},
   "outputs": [],
   "source": [
    "def is_symmetric(a, b, relation):\n",
    "    return relation(a, b) == relation(b, a)"
   ]
  },
  {
   "cell_type": "markdown",
   "metadata": {},
   "source": [
    "### Antisymmetry\n",
    "\n",
    "antisymmetry asserts that the only case in which the binary relation holds in\n",
    "both orders is when the elements are the same.\n",
    "\n",
    "$$a, b \\in P, a \\leq b, b \\leq a : a = b$$"
   ]
  },
  {
   "cell_type": "code",
   "execution_count": 19,
   "metadata": {},
   "outputs": [],
   "source": [
    "def is_antisymmetric(a, b, relation):\n",
    "    if a == b:\n",
    "        return relation(a, b) == relation(b, a)\n",
    "    else:\n",
    "        return relation(a, b) != relation(b, a)"
   ]
  },
  {
   "cell_type": "markdown",
   "metadata": {},
   "source": [
    "### Connectedness\n",
    "\n",
    "connectedness asserts that the only case in which $a$ is incomparable to $b$ is\n",
    "if $a$ and $b$ are the same element.\n",
    "\n",
    "$$a, b \\in P, a \\nsim b : a = b$$"
   ]
  },
  {
   "cell_type": "code",
   "execution_count": 26,
   "metadata": {},
   "outputs": [],
   "source": [
    "def is_connected(a, b, relation):\n",
    "    if a != b:\n",
    "        return relation(a, b) or relation(b, a)\n",
    "    else:\n",
    "        return True"
   ]
  },
  {
   "cell_type": "markdown",
   "metadata": {},
   "source": [
    "\n",
    "### Totality\n",
    "\n",
    "totality asserts that all elements of $P$ are comparable.\n",
    "\n",
    "$$\\forall a, b \\in P : a \\sim b$$"
   ]
  },
  {
   "cell_type": "code",
   "execution_count": 21,
   "metadata": {},
   "outputs": [],
   "source": [
    "def is_total(set_P, relation):\n",
    "    for a in set_P:\n",
    "        for b in set_P:\n",
    "            if not is_comparable(a, b, relation):\n",
    "                return False\n",
    "    return True"
   ]
  },
  {
   "cell_type": "markdown",
   "metadata": {},
   "source": [
    "## Ordering"
   ]
  },
  {
   "cell_type": "markdown",
   "metadata": {},
   "source": [
    "## Preorder\n",
    "\n",
    "a preorder set, also known as a proset or quasiorder set, is a set $P$ equipped\n",
    "with a binary relation $\\sim$ such that the binary relation is unique for at\n",
    "least two elements of $P$. note that not all elements of $P$ have to be\n",
    "comparable.\n",
    "\n",
    "the binary relation must also satisfy reflexivity and transitivity.\n",
    "\n",
    "- reflexivity: $a \\in P : a \\sim a$\n",
    "- transitivity: $a, b, c \\in P, a \\sim b, b \\sim c : a \\sim c$\n",
    "\n",
    "the binary relation creates a notion of ordering or ranking of elements."
   ]
  },
  {
   "cell_type": "code",
   "execution_count": 27,
   "metadata": {},
   "outputs": [
    {
     "name": "stdout",
     "output_type": "stream",
     "text": [
      "is_preorder \"<\"  False\n",
      "is_preorder \">\"  False\n",
      "is_preorder \"<=\" True\n",
      "is_preorder \">=\" True\n"
     ]
    }
   ],
   "source": [
    "def is_preorder(set_P, relation):\n",
    "    for a in set_P:\n",
    "        if not is_reflexive(a, relation):\n",
    "            return False\n",
    "        for b in set_P:\n",
    "            for c in set_P:\n",
    "                if not is_transitive(a, b, c, relation):\n",
    "                    return False\n",
    "    return True\n",
    "\n",
    "print('is_preorder \"<\" ', is_preorder(p, lt))\n",
    "print('is_preorder \">\" ', is_preorder(p, gt))\n",
    "print('is_preorder \"<=\"', is_preorder(p, lte))\n",
    "print('is_preorder \">=\"', is_preorder(p, gte))"
   ]
  },
  {
   "cell_type": "markdown",
   "metadata": {},
   "source": [
    "## Strict Preorder\n",
    "\n",
    "a strict preorder set, or strict quaiorder set, is similar to a preorder in that\n",
    "the binary relation $\\sim$ over elements of $P$ is transitive, but instead of\n",
    "it being reflexive, it must be irreflexive.\n",
    "\n",
    "- irreflexivity: $a \\in P : a \\nsim a$\n",
    "- transitivity: $a, b, c \\in P, a \\sim b, b \\sim c : a \\sim c$"
   ]
  },
  {
   "cell_type": "code",
   "execution_count": 28,
   "metadata": {},
   "outputs": [
    {
     "name": "stdout",
     "output_type": "stream",
     "text": [
      "is_strict_preorder \"<\"  True\n",
      "is_strict_preorder \">\"  True\n",
      "is_strict_preorder \"<=\" False\n",
      "is_strict_preorder \">=\" False\n"
     ]
    }
   ],
   "source": [
    "def is_strict_preorder(set_P, relation):\n",
    "    for a in set_P:\n",
    "        if not is_irreflexive(a, relation):\n",
    "            return False\n",
    "        for b in set_P:\n",
    "            for c in set_P:\n",
    "                if not is_transitive(a, b, c, relation):\n",
    "                    return False\n",
    "    return True\n",
    "\n",
    "print('is_strict_preorder \"<\" ', is_strict_preorder(p, lt))\n",
    "print('is_strict_preorder \">\" ', is_strict_preorder(p, gt))\n",
    "print('is_strict_preorder \"<=\"', is_strict_preorder(p, lte))\n",
    "print('is_strict_preorder \">=\"', is_strict_preorder(p, gte))"
   ]
  },
  {
   "cell_type": "markdown",
   "metadata": {},
   "source": [
    "## Partial Order\n",
    "\n",
    "the partially ordered set, also known as a poset, is a preorder set $P$ but with\n",
    "the additional constraint that the binary relation is antisymmetric.\n",
    "\n",
    "- reflexivity: $a \\in P : a \\sim a$\n",
    "- transitivity: $a, b, c \\in P, a \\sim b, b \\sim c : a \\sim c$\n",
    "- antisymmetry: $a, b \\in P, a \\leq b, b \\leq a : a = b$"
   ]
  },
  {
   "cell_type": "code",
   "execution_count": 29,
   "metadata": {},
   "outputs": [
    {
     "name": "stdout",
     "output_type": "stream",
     "text": [
      "is_partial_order \"<\"  False\n",
      "is_partial_order \">\"  False\n",
      "is_partial_order \"<=\" True\n",
      "is_partial_order \">=\" True\n"
     ]
    }
   ],
   "source": [
    "def is_partial_order(set_P, relation):\n",
    "    if not is_preorder(set_P, relation):\n",
    "        return False\n",
    "    for a in set_P:\n",
    "        for b in set_P:\n",
    "            if not is_antisymmetric(a, b, relation):\n",
    "                return False\n",
    "    return True\n",
    "\n",
    "print('is_partial_order \"<\" ', is_partial_order(p, lt))\n",
    "print('is_partial_order \">\" ', is_partial_order(p, gt))\n",
    "print('is_partial_order \"<=\"', is_partial_order(p, lte))\n",
    "print('is_partial_order \">=\"', is_partial_order(p, gte))"
   ]
  },
  {
   "cell_type": "markdown",
   "metadata": {},
   "source": [
    "## Total Order\n",
    "\n",
    "a total order, also known as a linear order or chain order, is a partial order\n",
    "where the binary relation exhibits the totality property.\n",
    "\n",
    "- reflexivity: $\\forall a \\in P : a \\sim a$\n",
    "- transitivity: $\\forall a, b \\in P, a \\leq b, b \\leq c : a \\leq c$\n",
    "- antisymmetry: $\\forall a, b \\in P, a \\leq b, b \\leq a : a = b$\n",
    "- totality: $\\forall a, b \\in P : a \\sim b$"
   ]
  },
  {
   "cell_type": "code",
   "execution_count": 33,
   "metadata": {},
   "outputs": [
    {
     "name": "stdout",
     "output_type": "stream",
     "text": [
      "is_total_order \"<\"  False\n",
      "is_total_order \">\"  False\n",
      "is_total_order \"<=\" True\n",
      "is_total_order \">=\" True\n"
     ]
    }
   ],
   "source": [
    "def is_total_order(set_P, relation):\n",
    "    return is_partial_order(set_P, relation) and is_total(set_P, relation)\n",
    "\n",
    "print('is_total_order \"<\" ', is_total_order(p, lt))\n",
    "print('is_total_order \">\" ', is_total_order(p, gt))\n",
    "print('is_total_order \"<=\"', is_total_order(p, lte))\n",
    "print('is_total_order \">=\"', is_total_order(p, gte))"
   ]
  },
  {
   "cell_type": "markdown",
   "metadata": {},
   "source": [
    "## Total Preorder\n",
    "\n",
    "a total preorder, alsko known as a linear preorder, preference relation, or\n",
    "non-strict weak order, is a preorder where the binary relation exhibits the\n",
    "totality property.\n",
    "\n",
    "- reflexivity: $\\forall a \\in P : a \\sim a$\n",
    "- transitivity: $\\forall a, b \\in P, a \\leq b, b \\leq c : a \\leq c$\n",
    "- totality: $\\forall a, b \\in P : a \\sim b$"
   ]
  },
  {
   "cell_type": "code",
   "execution_count": 34,
   "metadata": {},
   "outputs": [
    {
     "name": "stdout",
     "output_type": "stream",
     "text": [
      "is_total_preorder \"<\"  False\n",
      "is_total_preorder \">\"  False\n",
      "is_total_preorder \"<=\" True\n",
      "is_total_preorder \">=\" True\n"
     ]
    }
   ],
   "source": [
    "def is_total_preorder(set_P, relation):\n",
    "    return is_preorder(set_P, relation) and is_total(set_P, relation)\n",
    "\n",
    "print('is_total_preorder \"<\" ', is_total_preorder(p, lt))\n",
    "print('is_total_preorder \">\" ', is_total_preorder(p, gt))\n",
    "print('is_total_preorder \"<=\"', is_total_preorder(p, lte))\n",
    "print('is_total_preorder \">=\"', is_total_preorder(p, gte))"
   ]
  },
  {
   "cell_type": "markdown",
   "metadata": {},
   "source": [
    "## Strict Total Order\n",
    "\n",
    "a strict total order, also known as a pseudo-order or strict linear order, is\n",
    "a strict preorder with the additional properties of asymmetry, cotransitivity,\n",
    "and connectedness.\n",
    "\n",
    "- irreflexivity: $\\forall a \\in P : a \\nsim a$\n",
    "- transitivity: $\\forall a, b, c \\in P, a \\sim b, b \\sim c : a \\sim c$\n",
    "- antisymmetry: $\\forall a, b \\in P, a \\leq b, b \\leq a : a = b$\n",
    "- cotransitivity: $\\forall a, b, c \\in P, a \\sim c : a \\sim b \\, or \\, b \\sim c$\n",
    "- connectedness: $\\forall a, b \\in P, a \\nsim b \\, b \\nsim a \\, : a = b$"
   ]
  },
  {
   "cell_type": "code",
   "execution_count": 37,
   "metadata": {},
   "outputs": [
    {
     "name": "stdout",
     "output_type": "stream",
     "text": [
      "is_strict_total_order \"<\"  False\n",
      "is_strict_total_order \">\"  False\n",
      "is_strict_total_order \"<=\" False\n",
      "is_strict_total_order \">=\" False\n"
     ]
    }
   ],
   "source": [
    "def is_strict_total_order(set_P, relation):\n",
    "    if not is_strict_preorder(set_P, relation):\n",
    "        return False\n",
    "    for a in set_P:\n",
    "        for b in set_P:\n",
    "            if not is_antisymmetric(a, b, relation) or not is_connected(a, b, relation):\n",
    "                return False\n",
    "            for c in set_P:\n",
    "                if not is_cotransitive(a, b, c, relation):\n",
    "                    return False\n",
    "    return True\n",
    "\n",
    "print('is_strict_total_order \"<\" ', is_strict_total_order(p, lt))\n",
    "print('is_strict_total_order \">\" ', is_strict_total_order(p, gt))\n",
    "print('is_strict_total_order \"<=\"', is_strict_total_order(p, lte))\n",
    "print('is_strict_total_order \">=\"', is_strict_total_order(p, gte))"
   ]
  },
  {
   "cell_type": "markdown",
   "metadata": {},
   "source": [
    "## Other Useful Terminology"
   ]
  },
  {
   "cell_type": "markdown",
   "metadata": {},
   "source": [
    "### Greatest and Least\n",
    "\n",
    "the greatest element of a subset $S$ of a partially ordered set $P$ is an\n",
    "element of $S$ that is greater than any other element of $S$.\n",
    "\n",
    "$$S \\subseteq P, a \\in S, \\forall b \\in S : a > b$$\n",
    "\n",
    "the least element of a subset $S$ of a partially ordered set $P$ is an element\n",
    "of $S$ that is less than any other element of $S$\n",
    "\n",
    "$$S \\subseteq P, a \\in S, \\forall b \\in S : a < b$$"
   ]
  },
  {
   "cell_type": "code",
   "execution_count": null,
   "metadata": {},
   "outputs": [],
   "source": [
    "def is_greatest(a, subset_S):\n",
    "    if a not in subset_S:\n",
    "        return False\n",
    "    for b in subset_S:\n",
    "        if not a > b:\n",
    "            return False\n",
    "    return True\n",
    "\n",
    "\n",
    "def is_least(a, subset_S):\n",
    "    if a not in subset_S:\n",
    "        return False\n",
    "    for b in subset_S:\n",
    "        if not a < b:\n",
    "            return False\n",
    "    return True"
   ]
  },
  {
   "cell_type": "markdown",
   "metadata": {},
   "source": [
    "### Maximal and Minimal\n",
    "\n",
    "the maximal element of a subset $S$ of a preordered set $P$ is an element of $S$\n",
    "that is not smaller than any other element in $S$\n",
    "\n",
    "$$S \\subseteq P, a \\in S, \\forall b \\in S : a \\nless b$$\n",
    "\n",
    "the minimal element of a subset $S$ of a preordered set $P$ is an element of $S$\n",
    "that is not greater than any other element in $S$\n",
    "\n",
    "$$S \\subseteq P, a \\in S, \\forall b \\in S : a \\ngtr b$$\n",
    "\n",
    "\n",
    "note that these are weaker notions of the graetest and least elements"
   ]
  },
  {
   "cell_type": "code",
   "execution_count": null,
   "metadata": {},
   "outputs": [],
   "source": [
    "def maximal(a, subset_S):\n",
    "    if a not in subset_S:\n",
    "        return False\n",
    "    for b in subset_S:\n",
    "        if a < b:\n",
    "            return False\n",
    "    return True\n",
    "\n",
    "\n",
    "def minimal(a, subset_S):\n",
    "    if a not in subset_S:\n",
    "        return False\n",
    "    for b in subset_S:\n",
    "        if a > b:\n",
    "            return False\n",
    "    return True"
   ]
  },
  {
   "cell_type": "markdown",
   "metadata": {},
   "source": [
    "### Upper and Lower Bound\n",
    "\n",
    "the upper bound, also known as majorant, of a subset $S$ on a preordered set $P$\n",
    "is an element of $P$ that is greater than or equal to every element of $S$\n",
    "\n",
    "$$S \\subseteq P, a \\in P, \\forall b \\in S : a \\geq b$$\n",
    "\n",
    "the lower bound, also known as minorant, of a subset $S$ on a preordered set $P$\n",
    "is an element of $P$ that is less than or equal to every element of $S$\n",
    "\n",
    "$$S \\subseteq P, a \\in P, \\forall b \\in S : a \\leq b$$"
   ]
  },
  {
   "cell_type": "code",
   "execution_count": 9,
   "metadata": {},
   "outputs": [],
   "source": [
    "def is_upper_bound(a, subset_S, set_P):\n",
    "    if a not in set_P:\n",
    "        return False\n",
    "    for b in subset_S:\n",
    "        if a < b:\n",
    "            return False\n",
    "    return True\n",
    "\n",
    "\n",
    "def is_lower_bound(a, subset_S, set_P):\n",
    "    if a not in set_P:\n",
    "        return False\n",
    "    for b in subset_S:\n",
    "        if a > b:\n",
    "            return False"
   ]
  },
  {
   "cell_type": "markdown",
   "metadata": {},
   "source": [
    "## Definitely Real and Legitimate Human Words\n",
    "\n",
    "### Infimum and Supremum\n",
    "\n",
    "the Infimum, also known as greatest lower bound or meet, of a subset $S$ of a\n",
    "partially ordered set $P$ is the greatest element of $P$ that is less than or\n",
    "equal to each element of $S$\n",
    "\n",
    "the supremum, also known as least upper bound or join, of a subset $S$ of a\n",
    "partially ordered set $P$ is the least element of $P$ that is greater than or\n",
    "equal to each element of $S$"
   ]
  }
 ],
 "metadata": {
  "kernelspec": {
   "display_name": "Python 3",
   "language": "python",
   "name": "python3"
  },
  "language_info": {
   "codemirror_mode": {
    "name": "ipython",
    "version": 3
   },
   "file_extension": ".py",
   "mimetype": "text/x-python",
   "name": "python",
   "nbconvert_exporter": "python",
   "pygments_lexer": "ipython3",
   "version": "3.10.14"
  }
 },
 "nbformat": 4,
 "nbformat_minor": 2
}
