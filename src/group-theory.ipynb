{
 "cells": [
  {
   "cell_type": "markdown",
   "metadata": {},
   "source": [
    "# Group Theory\n",
    "\n",
    "group theory defines algebraic structures over sets and binary operations over\n",
    "elements of those sets"
   ]
  },
  {
   "cell_type": "markdown",
   "metadata": {},
   "source": [
    "## Magma to Group\n",
    "\n",
    "a magma is a set $S$ with a binary operator $\\star$\n",
    "\n",
    "$$a, b \\in S : a \\star b = c \\in S$$\n",
    "\n",
    "a semigroup is a magma where the binary operator is associative\n",
    "\n",
    "$$\\forall a, b, c \\in S : (a \\star b) \\star c = a \\star (b \\star c)$$\n",
    "\n",
    "a monoid is a semigroup that contains a unit element such that the binary\n",
    "operation performed on the unit and any other element returns the element\n",
    "unchanged\n",
    "\n",
    "$$\\forall a \\in S, \\exists e \\in S : a \\star e = e \\star a = a$$\n",
    "\n",
    "a group is a monoid where all elements have an inverse element such that\n",
    "composing the binary operation over the element, its inverse, then the element\n",
    "again produces the element\n",
    "\n",
    "$$\\forall a \\in S, \\exists a^{-1} \\in S : a \\star a^{-1} = a^{-1} \\star a = e$$"
   ]
  },
  {
   "cell_type": "code",
   "execution_count": 9,
   "metadata": {},
   "outputs": [
    {
     "name": "stdout",
     "output_type": "stream",
     "text": [
      "isomorphic inverse:  True\n"
     ]
    }
   ],
   "source": [
    "set_g = { 0, 1, 2, 3, 4 }\n",
    "operation = lambda x, y : (x + y) % 5\n",
    "\n",
    "def associative():\n",
    "    for i in set_g:\n",
    "        for j in set_g:\n",
    "            for k in set_g:\n",
    "                if operation(operation(i, j), k) != operation(i, operation(j, k)):\n",
    "                    return False\n",
    "\n",
    "    return True\n",
    "\n",
    "def identity():\n",
    "    for i in set_g:\n",
    "        if operation(i, 0) != i:\n",
    "            return False\n",
    "\n",
    "    return True\n",
    "\n",
    "def inverse():\n",
    "    def find_inverse(x):\n",
    "        for i in set_g:\n",
    "            if operation(x, i) == 0:\n",
    "                return i\n",
    "        return None\n",
    "\n",
    "    for i in set_g:\n",
    "        if find_inverse(i) == None:\n",
    "            return False\n",
    "\n",
    "    return True\n",
    "\n",
    "print('associative: ', associative())\n",
    "print('identity: ', identity())\n",
    "print('inverse: ', inverse())  "
   ]
  },
  {
   "cell_type": "markdown",
   "metadata": {},
   "source": [
    "## And Beyond\n",
    "\n",
    "### Abelian Group\n",
    "\n",
    "an abelian group $A$ is a group where the binary operation is commutative\n",
    "\n",
    "- $\\forall a, b \\in A : a \\star b = b \\star a$\n",
    "\n",
    "### Ring\n",
    "\n",
    "a ring is a set $R$ with two binary operations, addition $+$ and multiplication\n",
    "$*$, such that addition forms an abelian group and multiplication forms a monoid\n",
    "that distributes over addition\n",
    "\n",
    "- addition\n",
    "  - associative: $\\forall a,b,c \\in R : (a + b) + c = a + (b + c)$\n",
    "  - identity: $\\forall a \\in R, \\exists e \\in R : a + e = e + a = a$\n",
    "  - inverse: $\\forall a \\in R, \\exists a^{-1} : a + a^{-1} = a^{-1} + a = e$\n",
    "  - commutative: $\\forall a, b \\in R : a + b = b + a$\n",
    "- multiplication\n",
    "  - associative: $\\forall a,b,c \\in R : (a * b) * c = a * (b * c)$\n",
    "  - identity: $\\forall a \\in G, \\exists e \\in G : a \\star e = e \\star a = a$\n",
    "  - distributive: $\\forall a,b,c \\in R : a * (b + c) = a * b + a * c$\n",
    "\n",
    "### Field\n",
    "\n",
    "a field $F$ is a ring where every nonzero element has a multiplicative inverse\n",
    "and $0 \\neq 1$.\n",
    "\n",
    "- inverse: $\\forall a \\in F, \\exists a^{-1} : a * a^{-1} = a^{-1} + a = e$\n",
    "- $0, 1 \\in F : 0 \\neq 1$\n",
    "\n",
    "### Galois Field\n",
    "\n",
    "a galois field is a field with a finite number of elements\n",
    "\n",
    "a common example of a finite (galois) field is a set of integers modulo $P$\n",
    "where $P$ is a prime number.\n",
    "\n",
    "the reason the finite field has to be modulo a prime number is to handle the\n",
    "case of overflow.\n",
    "\n",
    "if multiplication overflows on a non-prime modulus, it may\n",
    "produce a zero, which breaks the multiplicative inverse rule of fields as\n",
    "multiplicative inverse corresponds to division and a negative divisor is not\n",
    "allowed."
   ]
  }
 ],
 "metadata": {
  "kernelspec": {
   "display_name": "Python 3",
   "language": "python",
   "name": "python3"
  },
  "language_info": {
   "codemirror_mode": {
    "name": "ipython",
    "version": 3
   },
   "file_extension": ".py",
   "mimetype": "text/x-python",
   "name": "python",
   "nbconvert_exporter": "python",
   "pygments_lexer": "ipython3",
   "version": "3.10.14"
  }
 },
 "nbformat": 4,
 "nbformat_minor": 2
}
